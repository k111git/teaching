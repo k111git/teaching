{
 "cells": [
  {
   "cell_type": "code",
   "execution_count": 1,
   "metadata": {},
   "outputs": [],
   "source": [
    "%matplotlib inline\n",
    "import matplotlib.pyplot as plt\n",
    "plt.rcParams['axes.labelsize'] = 16\n",
    "plt.rcParams['xtick.labelsize'] = 14\n",
    "plt.rcParams['ytick.labelsize'] = 14\n",
    "import numpy as np\n",
    "def plot_nn():\n",
    "    fig,ax=plt.subplots(figsize=(5,5))\n",
    "    x1=list(zip([0,0,0],[0.2,0.5,0.8]))\n",
    "    x2=list(zip([1,1,1,1],[0,0.33,0.66,1]))\n",
    "    x3=list(zip([2],[0.5]))\n",
    "    for y1 in x1:\n",
    "        for y2 in x2:\n",
    "            ax.plot([y1[0],y2[0]],[y1[1],y2[1]],c='C0')        \n",
    "    for y1 in x2:\n",
    "        for y2 in x3:\n",
    "            ax.plot([y1[0],y2[0]],[y1[1],y2[1]],c='C1')        \n",
    "    ax.plot([0,0,0],[0.2,0.5,0.8],\"o\",markersize=10)\n",
    "    ax.plot([1,1,1,1],[0,0.33,0.66,1],\"o\",markersize=10)\n",
    "    ax.plot([2],[0.5],'o',markersize=10)\n",
    "    plt.axis('off')\n",
    "    return plt"
   ]
  },
  {
   "cell_type": "markdown",
   "metadata": {},
   "source": [
    "## Preliminaries\n",
    "\n",
    "Cost function:\n",
    "$$\n",
    "\\begin{equation}\n",
    "C = \\sum_{j} (a_j^{(L)} - y_j)^2 \\equiv \\sum_{j} C_j\n",
    "\\end{equation}\n",
    "$$\n",
    "\n",
    "Weights and biases: \n",
    "$$\n",
    "z_j^{(L)} = \\sum_k \\omega_{jk}^{(L)} a_k^{(L-1)} + b_j^{(L)}\n",
    "$$\n",
    "\n",
    "Activation:\n",
    "$$\n",
    "\\begin{equation}\n",
    "a_j^{(L)} = \\sigma(z_j^{(L)})\n",
    "\\end{equation}\n",
    "$$\n",
    "\n",
    "Chain rule:\n",
    "$$\n",
    "\\begin{equation}\n",
    "\\frac{\\partial C_0}{\\partial \\omega_{jk}^{(L)}} = \n",
    "\\frac{\\partial z_j^{(L)}}{\\partial \\omega_{jk}^{(L)}}\n",
    "\\frac{\\partial a_j^{(L)}}{\\partial z_j^{(L)}}\n",
    "\\frac{\\partial C_0}{\\partial a_j^{(L)}}\n",
    "\\end{equation}\n",
    "$$\n",
    "and\n",
    "$$\n",
    "\\begin{equation}\n",
    "\\frac{\\partial C_0}{\\partial a_k^{(L-1)}} =\n",
    "\\sum_{j}\n",
    "\\frac{\\partial z_j^{(L)}}{\\partial a_k^{(L-1)}}\n",
    "\\frac{\\partial a_j^{(L)}}{\\partial z_j^{(L)}}\n",
    "\\frac{\\partial C_0}{\\partial a_j^{(L)}}\n",
    "\\end{equation}\n",
    "$$\n",
    "\n",
    "\n",
    "\n",
    "\n",
    "\n",
    "\n"
   ]
  },
  {
   "cell_type": "markdown",
   "metadata": {},
   "source": [
    "## Input, 1 hidden, output with 1 neuron:\n",
    "Here, let us consider the a NN with input layer, 1 hidden layer, and one output layer with a single neuron:"
   ]
  },
  {
   "cell_type": "code",
   "execution_count": 2,
   "metadata": {},
   "outputs": [
    {
     "data": {
      "image/png": "[encoded data removed]",
      "text/plain": [
       "<Figure size 360x360 with 1 Axes>"
      ]
     },
     "metadata": {},
     "output_type": "display_data"
    }
   ],
   "source": [
    "plot_nn().show()"
   ]
  },
  {
   "cell_type": "markdown",
   "metadata": {},
   "source": [
    "Here:\n",
    "$$\\begin{equation}\n",
    "\\sigma(x) = \\frac{1}{1+e^{-x}}\n",
    "\\end{equation}$$\n",
    "hence\n",
    "$$\\begin{equation}\n",
    "\\frac{\\partial \\sigma(x)}{\\partial x}=\\sigma(x) (1-\\sigma(x))\n",
    "\\end{equation}$$\n",
    "\n",
    "$$\\begin{equation}\n",
    "\\frac{\\partial C_0}{\\partial \\omega_{1,k}^{(L)}} = a_k^{(L-1)} a_{1}^{(L)} (1-a_{1}^{(L)})\n",
    "2 (a_1^{(L)} - y_1)\n",
    "\\end{equation}$$\n",
    "\n",
    "$$\\begin{align}\n",
    "\\frac{\\partial C}{\\partial \\omega_{1,k}^{(L)}} & = \n",
    "\\sum_i\n",
    "a_{i,k}^{(L-1)} a_{i,1}^{(L)} (1-a_{i,1}^{(L)})\n",
    "2 (a_{i,1}^{(L)} - y_{i,1}) \\\\\n",
    "\\frac{\\partial C}{\\partial \\omega^{(L)}} & = a^{(L)^T} \\cdot \\left[ a^{(L)} (1-a^{(L)} 2 (a^{L}-y) \\right]\n",
    "\\end{align}$$\n",
    "where $a^{(L)^T}$ has shape $(k,i)$ and $[...]$ has shape $(i,1)$. Hence, $\\frac{\\partial C}{\\partial \\omega^{(L)}}$ has shape $(k,1)$, which is the dimension of $W^{(L)}$. \n",
    "\n",
    "We have:\n",
    "$$\\begin{align}\n",
    "\\frac{C_0}{\\partial \\omega_{jk}^{(L-1}} & = \n",
    "\\frac{\\partial z_j^{L-1}}{\\partial \\omega_{j,k}^{(L-1)}}\n",
    "\\frac{a_j^{(L-1)}}{\\partial z_j^{(L-1)}}\n",
    "\\frac{\\partial C_0}{\\partial a_j^{(L-1)}} \\\\\n",
    "\\frac{\\partial z_j^{L-1}}{\\partial \\omega_{j,k}^{(L-1)}} & = a_k^{(L-2)}=x_k \\\\\n",
    "\\frac{a_j^{(L-1)}}{\\partial z_j^{(L-1)}} & = a_j^{(L-1)} (1-a_j^{(L-1)}) \\\\\n",
    "\\frac{\\partial C_0}{\\partial a_j^{(L-1)}} & = \\omega_{j,1}^{(L)} a_1^{(L)}  (1-a_1^{(L)}) 2 (a_1^{(L)} - y_1) \n",
    "\\end{align}$$\n",
    "\n",
    "This eventually yields:\n",
    "$$\n",
    "\\begin{equation}\n",
    "\\frac{\\partial C}{\\partial \\omega^{L-1}} =\n",
    "x^T \\cdot \\left[ \n",
    "\\left[(2 (a^{(L)} - y) a^{(L)} (1-a^{(L)}))\n",
    "\\cdot  \\omega^{L} \\right]\n",
    "a^{L-1}\n",
    "\\right]\n",
    "\\end{equation}\n",
    "$$\n",
    "where $(2 (a^{(L)} - y) a^{(L)} (1-a^{(L)}))\n",
    "\\cdot  \\omega^{L}$ and $a^{L-1}$ both have shape $(i,n_{L-1})$ (hence their multiplication is understood component-wise). $x^T$ has shape $(k,i)$, hence $\\frac{\\partial C}{\\partial \\omega^{L-1}}$ has shape $(k,n_{L-1})$, which is the correct shape for weight matrix $\\omega^{L-1}$ (the layer has $n_{L-1}$ neurons."
   ]
  },
  {
   "cell_type": "code",
   "execution_count": 3,
   "metadata": {},
   "outputs": [],
   "source": [
    "def sigmoid(x):\n",
    "    return 1.0/(1.0+ np.exp(-x))\n",
    "\n",
    "def sigmoid_derivative(x):\n",
    "    return x * (1.0 - x)\n",
    "    #return sigmoid(x)*(1-sigmoid(x))\n",
    "    #actual derivative is sigm(x)*(1-sigm(x))\n",
    "    #check: integrate(sigm(x)*(1-sigm(x)))"
   ]
  },
  {
   "cell_type": "code",
   "execution_count": 4,
   "metadata": {},
   "outputs": [],
   "source": [
    "class NeuralNet:\n",
    "    def __init__(self,x,target,n_neurons):\n",
    "        self.x = x\n",
    "        self.w1 = np.random.rand(self.x.shape[1],n_neurons)\n",
    "        #first weights have shape (n_features,neurons). Number of features is x.shape[1]. \n",
    "        #Number of data points would be x.shape[0].\n",
    "        self.w2 = np.random.rand(n_neurons,1)\n",
    "        #second weights have shape n_neurons,1, because we have a single output neuron.\n",
    "        self.target=target\n",
    "        #self.l2=np.zeros(self.target.shape)\n",
    "        \n",
    "    def feedforward(self):\n",
    "        self.l1 = sigmoid(np.dot(self.x,self.w1))\n",
    "        self.l2 = sigmoid(np.dot(self.l1,self.w2))\n",
    "        \n",
    "    def backpropagate(self):\n",
    "        d_w2 = np.dot(self.l1.T, (2*(self.target - self.l2) * sigmoid_derivative(self.l2)))\n",
    "        d_w1 = np.dot(self.x.T,  (np.dot(2*(self.target - self.l2) * sigmoid_derivative(self.l2), self.w2.T) * sigmoid_derivative(self.l1)))\n",
    "\n",
    "        # update the weights with the derivative (slope) of the loss function\n",
    "        self.w1 += d_w1\n",
    "        self.w2 += d_w2"
   ]
  },
  {
   "cell_type": "code",
   "execution_count": 5,
   "metadata": {},
   "outputs": [],
   "source": [
    "X=np.array([[1,0,0,0],[1,1,0,0],[1,1,1,0],[1,1,1,1]])\n",
    "y=np.array([[1],[0.5],[0],[0]])"
   ]
  },
  {
   "cell_type": "code",
   "execution_count": 6,
   "metadata": {},
   "outputs": [
    {
     "data": {
      "text/plain": [
       "array([[0.74298952],\n",
       "       [0.77266383],\n",
       "       [0.80243594],\n",
       "       [0.82108299]])"
      ]
     },
     "execution_count": 6,
     "metadata": {},
     "output_type": "execute_result"
    }
   ],
   "source": [
    "#Test the feed forward:\n",
    "\n",
    "nn = NeuralNet(X,y,4)\n",
    "\n",
    "nn.feedforward()\n",
    "\n",
    "nn.l2"
   ]
  },
  {
   "cell_type": "code",
   "execution_count": 7,
   "metadata": {},
   "outputs": [
    {
     "name": "stdout",
     "output_type": "stream",
     "text": [
      "[[0.89237396]\n",
      " [0.915679  ]\n",
      " [0.93387295]\n",
      " [0.94847292]]\n",
      "[[0.81359379]\n",
      " [0.83741834]\n",
      " [0.86087637]\n",
      " [0.88226216]]\n"
     ]
    }
   ],
   "source": [
    "#Test one iteration:\n",
    "\n",
    "nn = NeuralNet(X,y,5)\n",
    "nn.feedforward()\n",
    "print(nn.l2)\n",
    "nn.backpropagate() \n",
    "nn.feedforward()\n",
    "print(nn.l2)"
   ]
  },
  {
   "cell_type": "code",
   "execution_count": 8,
   "metadata": {},
   "outputs": [
    {
     "name": "stdout",
     "output_type": "stream",
     "text": [
      "0.9858946966337961 1.0\n",
      "0.5000053769581523 0.5\n",
      "0.010322635183360511 0.0\n",
      "0.0057591703798054485 0.0\n"
     ]
    },
    {
     "data": {
      "image/png": "[encoded data removed]",
      "text/plain": [
       "<Figure size 432x288 with 1 Axes>"
      ]
     },
     "metadata": {},
     "output_type": "display_data"
    }
   ],
   "source": [
    "#Train the network:\n",
    "\n",
    "losses=[]\n",
    "\n",
    "printout=False\n",
    "nn = NeuralNet(X,y,5)\n",
    "\n",
    "\n",
    "for i in range(1500):\n",
    "    nn.feedforward()\n",
    "    nn.backpropagate()\n",
    "    losses.append(np.sqrt(np.sum((y-nn.l2)**2)))\n",
    "\n",
    "for a,b in zip(nn.l2.flatten(),y.flatten()):\n",
    "    print(a,b)\n",
    "\n",
    "fig,ax=plt.subplots()\n",
    "ax.plot(losses)\n",
    "ax.set_xlabel(\"Iterations\")\n",
    "ax.set_ylabel(\"Loss\")\n",
    "plt.show()"
   ]
  },
  {
   "cell_type": "markdown",
   "metadata": {},
   "source": [
    "## References:\n",
    "\n",
    "Math of backpropagation: https://www.youtube.com/watch?v=tIeHLnjs5U8\n",
    "\n",
    "Build NN: https://towardsdatascience.com/how-to-build-your-own-neural-network-from-scratch-in-python-68998a08e4f6"
   ]
  }
 ],
 "metadata": {
  "kernelspec": {
   "display_name": "Python 3",
   "language": "python",
   "name": "python3"
  },
  "language_info": {
   "codemirror_mode": {
    "name": "ipython",
    "version": 3
   },
   "file_extension": ".py",
   "mimetype": "text/x-python",
   "name": "python",
   "nbconvert_exporter": "python",
   "pygments_lexer": "ipython3",
   "version": "3.6.5"
  }
 },
 "nbformat": 4,
 "nbformat_minor": 2
}
