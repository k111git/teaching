{
 "cells": [
  {
   "cell_type": "code",
   "execution_count": 4,
   "metadata": {},
   "outputs": [],
   "source": [
    "\n",
    "\n",
    "%matplotlib inline\n",
    "from ipywidgets import interactive\n",
    "import matplotlib.pyplot as plt\n",
    "import numpy as np\n",
    "from sympy import symbols,Matrix,solve,diff,init_printing\n",
    "from scipy.integrate import odeint\n",
    "init_printing()\n",
    "\n",
    "#Always use a large enough font size!\n",
    "plt.rcParams['axes.labelsize'] = 16\n",
    "plt.rcParams['xtick.labelsize'] = 14\n",
    "plt.rcParams['ytick.labelsize'] = 14"
   ]
  },
  {
   "cell_type": "markdown",
   "metadata": {},
   "source": [
    "## Predator prey model:\n",
    "\n",
    "x: Prey (Rabbits) <br>\n",
    "y: Predator (Foxes)\n",
    "\n",
    "$F(x,y) = (\\underbrace{a x}_{\\text{Rabbits reproduce}} - \\underbrace{b x y}_{\\text{Rabbits get eaten by fox}}, \\underbrace{-c y}_{\\text{Foxes die out without rabbits}}+\\underbrace{d x y}_{\\text{Foxes thrive by eating rabbits}})$\n",
    "\n",
    "$a,b,c,d > 0$ are parameters of the model. In simple terms, $a$ describes the reproduction rate of rabbits in the absence of foxes, $b$ describes the reduction of rabbit population if a rabbit meets a fox, $c$ describes the decay rate of the fox population if there are not rabbits (starving foxes), and finally $d$ describes the increase of fox population if a fox meets a rabbit."
   ]
  },
  {
   "cell_type": "code",
   "execution_count": 5,
   "metadata": {},
   "outputs": [],
   "source": [
    "#symbols is a function from the sympy package, defines symbolic variables\n",
    "x,y,a,b,c,d = symbols('x y a b c d')\n",
    "\n",
    "def F(x,y,a,b,c,d):\n",
    "    return [a*x - b*x*y, -c *y+d*x*y]"
   ]
  },
  {
   "cell_type": "markdown",
   "metadata": {},
   "source": [
    "### Get fixpoints\n",
    "Solve $F(x,y)=(0,0)$"
   ]
  },
  {
   "cell_type": "code",
   "execution_count": 6,
   "metadata": {},
   "outputs": [
    {
     "data": {
      "image/png": "[encoded data removed]",
      "text/latex": [
       "$\\displaystyle \\left[ \\left( 0, \\  0\\right), \\  \\left( \\frac{c}{d}, \\  \\frac{a}{b}\\right)\\right]$"
      ],
      "text/plain": [
       "⎡        ⎛c  a⎞⎤\n",
       "⎢(0, 0), ⎜─, ─⎟⎥\n",
       "⎣        ⎝d  b⎠⎦"
      ]
     },
     "execution_count": 6,
     "metadata": {},
     "output_type": "execute_result"
    }
   ],
   "source": [
    "#solve is a function from the sympy package\n",
    "fps=solve(F(x,y,a,b,c,d),[x,y]) #solves a*x - b*x*y == 0 && -c *y+d*x*y == 0, solving for x and y\n",
    "fps"
   ]
  },
  {
   "cell_type": "code",
   "execution_count": 7,
   "metadata": {},
   "outputs": [],
   "source": [
    "def fix(i,a1,b1,c1,d1):\n",
    "    vl=list(zip([a,b,c,d],[a1,b1,c1,d1]))\n",
    "    return [z.subs(vl) for z in fps[i]]"
   ]
  },
  {
   "cell_type": "markdown",
   "metadata": {},
   "source": [
    "### Jacobian Matrix"
   ]
  },
  {
   "cell_type": "code",
   "execution_count": 8,
   "metadata": {},
   "outputs": [],
   "source": [
    "i,j = symbols('i j')"
   ]
  },
  {
   "cell_type": "code",
   "execution_count": 9,
   "metadata": {},
   "outputs": [],
   "source": [
    "#Define a vector with all state variables, easier to generalize to more dimensions\n",
    "v=[x,y]\n",
    "def jij(i,j):\n",
    "    #diff is a function from the sympy package\n",
    "    return diff(F(x,y,a,b,c,d)[i],v[j])"
   ]
  },
  {
   "cell_type": "code",
   "execution_count": 10,
   "metadata": {
    "scrolled": false
   },
   "outputs": [
    {
     "data": {
      "image/png": "[encoded data removed]",
      "text/latex": [
       "$\\displaystyle \\left[\\begin{matrix}a - b y & - b x\\\\d y & - c + d x\\end{matrix}\\right]$"
      ],
      "text/plain": [
       "⎡a - b⋅y    -b⋅x  ⎤\n",
       "⎢                 ⎥\n",
       "⎣  d⋅y    -c + d⋅x⎦"
      ]
     },
     "execution_count": 10,
     "metadata": {},
     "output_type": "execute_result"
    }
   ],
   "source": [
    "#Marix function from sympy:\n",
    "J = Matrix(len(v),len(v),jij)\n",
    "#J now is the Jacobian matrix in symbolic form\n",
    "J"
   ]
  },
  {
   "cell_type": "code",
   "execution_count": 11,
   "metadata": {},
   "outputs": [],
   "source": [
    "# #Explicit way\n",
    "# J = Matrix(np.empty([len(v),len(v)]))\n",
    "# for i in range(0,len(v)):\n",
    "#     for j in range(0,len(v)):\n",
    "#         J[i,j]=diff(F(x,y,a,b,c,d)[i],v[j])\n",
    "\n",
    "# #J now is the Jacobian matrix in symbolic form\n",
    "# J"
   ]
  },
  {
   "cell_type": "markdown",
   "metadata": {},
   "source": [
    "### Stability of first fixpoint\n",
    "Calculate Eigenvalues of J at first fixpoint"
   ]
  },
  {
   "cell_type": "code",
   "execution_count": 12,
   "metadata": {},
   "outputs": [
    {
     "data": {
      "image/png": "[encoded data removed]",
      "text/latex": [
       "$\\displaystyle \\left[ a, \\  - c\\right]$"
      ],
      "text/plain": [
       "[a, -c]"
      ]
     },
     "execution_count": 12,
     "metadata": {},
     "output_type": "execute_result"
    }
   ],
   "source": [
    "f1l=J.subs(list(zip([x,y],fps[0]))).eigenvals()\n",
    "#.subs replaces x and y with the values in fps[0], hence x=0,y=0. \n",
    "#.eigenvals returns diccionary with eigenvalues and their multiplicity.\n",
    "#following line extracts only Eigenvalues\n",
    "[evs for evs,multiplicity in f1l.items()]"
   ]
  },
  {
   "cell_type": "markdown",
   "metadata": {},
   "source": [
    "One Eigenvalue is positive, hence fixpoint is unstable. "
   ]
  },
  {
   "cell_type": "markdown",
   "metadata": {},
   "source": [
    "### Stability of second fixpoint\n",
    "Calcualte Eigenvalues of J at second fixpoint"
   ]
  },
  {
   "cell_type": "code",
   "execution_count": 13,
   "metadata": {},
   "outputs": [
    {
     "data": {
      "image/png": "[encoded data removed]",
      "text/latex": [
       "$\\displaystyle \\left[ - \\sqrt{- a c}, \\  \\sqrt{- a c}\\right]$"
      ],
      "text/plain": [
       "⎡   ______    ______⎤\n",
       "⎣-╲╱ -a⋅c , ╲╱ -a⋅c ⎦"
      ]
     },
     "execution_count": 13,
     "metadata": {},
     "output_type": "execute_result"
    }
   ],
   "source": [
    "f2l=J.subs(list(zip([x,y],fps[1]))).eigenvals()\n",
    "[evs for evs,multiplicity in f2l.items()]"
   ]
  },
  {
   "cell_type": "markdown",
   "metadata": {},
   "source": [
    "Since a,b,c,d > 0, both Eigenvalues are purely imaginary. We cannot say anything about the stability of the fixpoint from this (more advanced techniques would have to be applied), but the imaginary Eigenvalues suggest oscillating behavior."
   ]
  },
  {
   "cell_type": "markdown",
   "metadata": {},
   "source": [
    "### Streamplot and numerical integration\n",
    "\n",
    "Indeed we find an oscillating behavior by looking at the streamplot as well as the numerical solution of the differential equation."
   ]
  },
  {
   "cell_type": "code",
   "execution_count": 18,
   "metadata": {},
   "outputs": [
    {
     "data": {
      "application/vnd.jupyter.widget-view+json": {
       "model_id": "e3d759e913f249bdbdee4178911e7102",
       "version_major": 2,
       "version_minor": 0
      },
      "text/plain": [
       "interactive(children=(FloatSlider(value=1.0, description='a', max=2.0), FloatSlider(value=1.0, description='b'…"
      ]
     },
     "execution_count": 18,
     "metadata": {},
     "output_type": "execute_result"
    }
   ],
   "source": [
    "r=5\n",
    "x1 = np.linspace(0,r,101)\n",
    "X,Y = np.meshgrid(x1,x1)\n",
    "\n",
    "#initial condition for integration\n",
    "x0 = [1.5,0.8]\n",
    "\n",
    "#define function in vector like input form. \n",
    "def F2(vx,t,a,b,c,d):\n",
    "    x,y=vx\n",
    "    return F(x,y,a,b,c,d)\n",
    "\n",
    "t = np.linspace(0, 40, 201)\n",
    "    \n",
    "def plotF(a,b,c,d):\n",
    "    #Evaluate streamplot data\n",
    "    U, V = F(X,Y,a,b,c,d)\n",
    "    #Numberical integration\n",
    "    sol = odeint(F2, x0, t, args=(a,b,c,d))\n",
    "    \n",
    "    f, ax = plt.subplots(1,2,figsize=(12,6))\n",
    "    \n",
    "    ax[0].streamplot(X, Y, U, V,density=1.5,linewidth=0.5,color='black')\n",
    "    #hightlight stream lines originating from initial conditions:\n",
    "    ax[0].streamplot(X, Y, U, V,density=1.5,linewidth=1.5,color='g',start_points=[x0])\n",
    "    ax[0].plot(x0[0], x0[1], 'bo',color='g')\n",
    "    #plot fixpoint in black:\n",
    "    myfp=fix(1,a,b,c,d)\n",
    "    ax[0].plot(myfp[0], myfp[1], 'bo',color='black')\n",
    "    ax[0].axis((0, r, -0, r))\n",
    "    ax[0].set_xlabel(\"x\")\n",
    "    ax[0].set_ylabel(\"y\")\n",
    "    \n",
    "    \n",
    "    ax[1].plot(t, sol[:, 0],  label='x(t)')\n",
    "    ax[1].plot(t, sol[:, 1],  label='y(t)')\n",
    "    ax[1].legend(loc=1,fontsize=14)\n",
    "    ax[1].set_xlabel('t')\n",
    "    ax[1].set_ylabel('Population')\n",
    "    \n",
    "    plt.tight_layout()\n",
    "    plt.show()\n",
    "    \n",
    "interactive_plot = interactive(plotF,  a=(0,2,0.1), b=(0,2, 0.1),c=(0,2,0.1),d=(0,2,0.1))    \n",
    "\n",
    "interactive_plot"
   ]
  },
  {
   "cell_type": "code",
   "execution_count": null,
   "metadata": {},
   "outputs": [],
   "source": []
  },
  {
   "cell_type": "code",
   "execution_count": null,
   "metadata": {},
   "outputs": [],
   "source": []
  },
  {
   "cell_type": "code",
   "execution_count": null,
   "metadata": {},
   "outputs": [],
   "source": []
  }
 ],
 "metadata": {
  "kernelspec": {
   "display_name": "Python 3 (ipykernel)",
   "language": "python",
   "name": "python3"
  },
  "language_info": {
   "codemirror_mode": {
    "name": "ipython",
    "version": 3
   },
   "file_extension": ".py",
   "mimetype": "text/x-python",
   "name": "python",
   "nbconvert_exporter": "python",
   "pygments_lexer": "ipython3",
   "version": "3.10.4"
  }
 },
 "nbformat": 4,
 "nbformat_minor": 2
}
