{
 "cells": [
  {
   "cell_type": "markdown",
   "metadata": {},
   "source": [
    "## References:\n",
    "\n",
    "Math of backpropagation: https://www.youtube.com/watch\n",
    "\n",
    "Build NN: https://towardsdatascience.com/how-to-build-your-own-neural-network-from-scratch-in-python-68998a08e4f6"
   ]
  },
  {
   "cell_type": "markdown",
   "metadata": {},
   "source": [
    "## Preliminaries\n",
    "\n",
    "Cost function:\n",
    "$$\n",
    "\\begin{equation}\n",
    "C = \\sum_{j} (a_j^{(L)} - y_j)^2 = \\sum_{j} C_j\n",
    "\\end{equation}\n",
    "$$\n",
    "\n",
    "Weights and biases: \n",
    "$$\n",
    "z_j^{(L)} = \\sum_k \\omega_{jk}^{(L)} a_k^{(L-1)} + b_j^{(L)}\n",
    "$$\n",
    "\n",
    "Activation:\n",
    "$$\n",
    "\\begin{equation}\n",
    "a_j^{(L)} = \\sigma(z_j^{(L)})\n",
    "\\end{equation}\n",
    "$$\n",
    "\n",
    "Chain rule:\n",
    "$$\n",
    "\\begin{equation}\n",
    "\\frac{\\partial C_0}{\\partial \\omega_{jk}^{(L)}} = \n",
    "\\frac{\\partial z_j^{(L)}}{\\partial \\omega_{jk}^{(L)}}\n",
    "\\frac{\\partial a_j^{(L)}}{\\partial z_j^{(L)}}\n",
    "\\frac{\\partial C_0}{\\partial a_j^{(L)}}\n",
    "\\end{equation}\n",
    "$$\n",
    "and\n",
    "$$\n",
    "\\begin{equation}\n",
    "\\frac{\\partial C_0}{\\partial a_k^{(L-1)}} =\n",
    "\\sum_{j}\n",
    "\\frac{\\partial z_j^{(L)}}{\\partial a_k^{(L-1)}}\n",
    "\\frac{\\partial a_j^{(L)}}{\\partial z_j^{(L)}}\n",
    "\\frac{\\partial C_0}{\\partial a_j^{(L)}}\n",
    "\\end{equation}\n",
    "$$\n",
    "\n",
    "\n",
    "\n",
    "\n",
    "\n",
    "\n"
   ]
  },
  {
   "cell_type": "markdown",
   "metadata": {},
   "source": [
    "## Input, 1 hidden, output with 1 neuron:\n",
    "Here:\n",
    "$$\\begin{equation}\n",
    "\\sigma(x) = \\frac{1}{1+e^{-x}}\n",
    "\\end{equation}$$\n",
    "hence\n",
    "$$\\begin{equation}\n",
    "\\frac{\\partial \\sigma(x)}{\\partial x}=\\sigma(x) (1-\\sigma(x))\n",
    "\\end{equation}$$\n",
    "\n",
    "$$\\begin{equation}\n",
    "\\frac{\\partial C_0}{\\partial \\omega_{1,k}^{(L)}} = a_k^{(L-1)} a_{1}^{(L)} (1-a_{1}^{(L)})\n",
    "2 (a_1^{(L)} - y_1)\n",
    "\\end{equation}$$\n",
    "\n",
    "$$\\begin{align}\n",
    "\\frac{\\partial C}{\\partial \\omega_{1,k}^{(L)}} & = \n",
    "\\sum_i\n",
    "a_{i,k}^{(L-1)} a_{i,1}^{(L)} (1-a_{i,1}^{(L)})\n",
    "2 (a_{i,1}^{(L)} - y_{i,1}) \\\\\n",
    "\\frac{\\partial C}{\\partial \\omega^{(L)}} & = a^{(L)^T} \\cdot \\left[ a^{(L)} (1-a^{(L)} 2 (a^{L}-y) \\right]\n",
    "\\end{align}$$\n",
    "where $a^{(L)^T}$ has shape $(k,1)$ and $[...]$ has shape $(i,1)$.Hence, $\\frac{\\partial C}{\\partial \\omega^{(L)}}$ has shape $(k,1)$, which is the dimension of $W^{(L)}$. \n",
    "\n",
    "We have:\n",
    "$$\\begin{align}\n",
    "\\frac{C_0}{\\partial \\omega_{jk}^{(L-1}} & = \n",
    "\\frac{\\partial z_j^{L-1}}{\\partial \\omega_{j,k}^{(L-1)}}\n",
    "\\frac{a_j^{(L-1)}}{\\partial z_j^{(L-1)}}\n",
    "\\frac{\\partial C_0}{\\partial a_j^{(L-1)}} \\\\\n",
    "\\frac{\\partial z_j^{L-1}}{\\partial \\omega_{j,k}^{(L-1)}} & = a_k^{(L-2)}=x_k \\\\\n",
    "\\frac{a_j^{(L-1)}}{\\partial z_j^{(L-1)}} & = a_j^{(L-1)} (1-a_j^{(L-1)}) \\\\\n",
    "\\frac{\\partial C_0}{\\partial a_j^{(L-1)}} & = \\omega_{j,1}^{(L)} a_1^{(L)}  (1-a_1^{(L)}) 2 (a_1^{(L)} - y_1) \n",
    "\\end{align}$$\n",
    "\n",
    "This eventually yields:\n",
    "$$\n",
    "\\begin{equation}\n",
    "\\frac{\\partial C}{\\partial W^{L-1}} =\n",
    "x^T \\cdot \\left[ \n",
    "\\left[(2 (a^{(L)} - y) a^{(L)} (1-a^{(L)}))\n",
    "\\cdot  W^{L} \\right]\n",
    "a^{L-1}\n",
    "\\right]\n",
    "\\end{equation}\n",
    "$$\n",
    "where $(2 (a^{(L)} - y) a^{(L)} (1-a^{(L)}))\n",
    "\\cdot  W^{L}$ and $a^{L-1}$ both have shape $(i,n_{L-1})$ (hence their multiplication is understood component-wise). $x^T$ has shape $(k,i)$, hence $\\frac{\\partial C}{\\partial W^{L-1}}$ has shape $(k,n_{L-1})$, which is the correct shape for weight matrix $W^{L-1}$ (the layer has $n_{L-1}$ neurons."
   ]
  },
  {
   "cell_type": "code",
   "execution_count": 1,
   "metadata": {},
   "outputs": [],
   "source": [
    "%matplotlib inline\n",
    "import matplotlib.pyplot as plt\n",
    "\n",
    "\n",
    "#Always use a large enough font size!\n",
    "plt.rcParams['axes.labelsize'] = 16\n",
    "plt.rcParams['xtick.labelsize'] = 14\n",
    "plt.rcParams['ytick.labelsize'] = 14\n",
    "\n",
    "import numpy as np\n",
    "\n"
   ]
  },
  {
   "cell_type": "code",
   "execution_count": 56,
   "metadata": {},
   "outputs": [],
   "source": [
    "def sigmoid(x):\n",
    "    return 1.0/(1.0+ np.exp(-x))\n",
    "\n",
    "def sigmoid_derivative(x):\n",
    "    return x * (1.0 - x)\n",
    "    #return sigmoid(x)*(1-sigmoid(x))\n",
    "    #actual derivative is sigm(x)*(1-sigm(x))\n",
    "    #check: integrate(sigm(x)*(1-sigm(x)))"
   ]
  },
  {
   "cell_type": "code",
   "execution_count": 3,
   "metadata": {},
   "outputs": [],
   "source": [
    "class NeuralNet:\n",
    "    def __init__(self,x,target,n_neurons):\n",
    "        self.x = x\n",
    "        self.w1 = np.random.rand(self.x.shape[1],n_neurons)\n",
    "        #first weights have shape (n_features,neurons). Number of features is x.shape[1]. \n",
    "        #Number of data points would be x.shape[0].\n",
    "        self.w2 = np.random.rand(n_neurons,1)\n",
    "        #second weights have shape n_neurons,1, because we have a single output neuron.\n",
    "        self.target=target\n",
    "        #self.l2=np.zeros(self.target.shape)\n",
    "        \n",
    "    def feedforward(self):\n",
    "        self.l1 = sigmoid(np.dot(self.x,self.w1))\n",
    "        self.l2 = sigmoid(np.dot(self.l1,self.w2))\n",
    "        \n",
    "    def backpropagate(self):\n",
    "        d_w2 = np.dot(self.l1.T, (2*(self.target - self.l2) * sigmoid_derivative(self.l2)))\n",
    "        d_w1 = np.dot(self.x.T,  (np.dot(2*(self.target - self.l2) * sigmoid_derivative(self.l2), self.w2.T) * sigmoid_derivative(self.l1)))\n",
    "\n",
    "        # update the weights with the derivative (slope) of the loss function\n",
    "        self.w1 += d_w1\n",
    "        self.w2 += d_w2"
   ]
  },
  {
   "cell_type": "code",
   "execution_count": 45,
   "metadata": {},
   "outputs": [],
   "source": [
    "X = np.random.rand(5,4)\n",
    "y = np.c_[np.random.rand(5)]"
   ]
  },
  {
   "cell_type": "code",
   "execution_count": 6,
   "metadata": {},
   "outputs": [
    {
     "data": {
      "text/plain": [
       "((4, 3), (4, 1))"
      ]
     },
     "execution_count": 6,
     "metadata": {},
     "output_type": "execute_result"
    }
   ],
   "source": [
    "X.shape,y.shape"
   ]
  },
  {
   "cell_type": "code",
   "execution_count": 12,
   "metadata": {},
   "outputs": [
    {
     "data": {
      "text/plain": [
       "array([[0.86530294],\n",
       "       [0.88977554],\n",
       "       [0.9142401 ],\n",
       "       [0.9154382 ]])"
      ]
     },
     "execution_count": 12,
     "metadata": {},
     "output_type": "execute_result"
    }
   ],
   "source": [
    "nn = NeuralNet(X,y,4)\n",
    "\n",
    "nn.feedforward()\n",
    "\n",
    "nn.l2"
   ]
  },
  {
   "cell_type": "code",
   "execution_count": 51,
   "metadata": {},
   "outputs": [
    {
     "name": "stdout",
     "output_type": "stream",
     "text": [
      "[[0.89286332]\n",
      " [0.86706014]\n",
      " [0.9024291 ]\n",
      " [0.87866289]\n",
      " [0.9003133 ]]\n",
      "[[0.7704486 ]\n",
      " [0.74434013]\n",
      " [0.78132433]\n",
      " [0.75442045]\n",
      " [0.77893095]]\n"
     ]
    }
   ],
   "source": [
    "nn = NeuralNet(X,y,5)\n",
    "nn.feedforward()\n",
    "print(nn.l2)\n",
    "nn.backpropagate() \n",
    "nn.feedforward()\n",
    "print(nn.l2)"
   ]
  },
  {
   "cell_type": "code",
   "execution_count": 63,
   "metadata": {},
   "outputs": [
    {
     "name": "stdout",
     "output_type": "stream",
     "text": [
      "0.4999395131565791 0.4748184025911162\n",
      "0.19702679132997566 0.2203252874011381\n",
      "0.4653191276269728 0.4744490839211405\n",
      "0.9496350389051093 0.9970927688648269\n",
      "0.5589407524262374 0.5503609585562711\n"
     ]
    },
    {
     "data": {
      "image/png": "[encoded data removed]",
      "text/plain": [
       "<Figure size 432x288 with 1 Axes>"
      ]
     },
     "metadata": {
      "needs_background": "light"
     },
     "output_type": "display_data"
    }
   ],
   "source": [
    "losses=[]\n",
    "\n",
    "printout=False\n",
    "nn = NeuralNet(X,y,5)\n",
    "\n",
    "\n",
    "for i in range(1500):\n",
    "    nn.feedforward()\n",
    "    nn.backpropagate()\n",
    "    losses.append(np.sqrt(np.sum((y-nn.l2)**2)))\n",
    "\n",
    "for a,b in zip(nn.l2.flatten(),y.flatten()):\n",
    "    print(a,b)\n",
    "\n",
    "fig,ax=plt.subplots()\n",
    "ax.plot(losses)\n",
    "ax.set_xlabel(\"Iterations\")\n",
    "ax.set_ylabel(\"Loss\")\n",
    "plt.show()"
   ]
  },
  {
   "cell_type": "code",
   "execution_count": null,
   "metadata": {},
   "outputs": [],
   "source": []
  }
 ],
 "metadata": {
  "kernelspec": {
   "display_name": "Python 3",
   "language": "python",
   "name": "python3"
  },
  "language_info": {
   "codemirror_mode": {
    "name": "ipython",
    "version": 3
   },
   "file_extension": ".py",
   "mimetype": "text/x-python",
   "name": "python",
   "nbconvert_exporter": "python",
   "pygments_lexer": "ipython3",
   "version": "3.7.0"
  }
 },
 "nbformat": 4,
 "nbformat_minor": 2
}
